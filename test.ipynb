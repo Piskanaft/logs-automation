{
 "cells": [
  {
   "cell_type": "code",
   "execution_count": 65,
   "metadata": {},
   "outputs": [
    {
     "name": "stdout",
     "output_type": "stream",
     "text": [
      "['29.04.2012', '11:01:05:3', 83.983, 0.404, '5', '0', '100', '120', '19.063', '40.869', 2447.570059291716, '3']\n",
      "['29.04.2012', '11:40:46:8', 84.025, 0.215, '5', '0', '100', '120', '18.945', '39.839', 2371.116599765962, '3']\n",
      "['29.04.2012', '14:34:43:9', 83.975, 1.474, '5', '0', '100', '120', '18.086', '38.164', 2168.4343903835334, '3']\n",
      "['29.04.2012', '15:09:50:5', 84.165, 0.911, '5', '0', '100', '120', '19.609', '41.211', 2538.7414405765676, '3']\n",
      "['29.04.2012', '21:51:34:5', 83.878, 2.328, '5', '0', '100', '120', '18.047', '38.672', 2192.560188334923, '3']\n",
      "['29.04.2012', '22:15:43:5', 83.869, 3.013, '5', '0', '100', '120', '17.93', '38.984', 2195.9202347752725, '3']\n",
      "['30.04.2012', '6:16:24:3', 83.816, 1.807, '5', '0', '100', '120', '17.266', '37.852', 2053.196147425473, '3']\n",
      "['30.04.2012', '8:25:53:3', 84.019, 1.495, '5', '0', '100', '120', '19.922', '36.133', 2261.4491639897315, '4']\n",
      "['1.05.2012', '1:34:45:7', 83.959, 3.238, '5', '0', '100', '120', '17.695', '38.633', 2147.6270913096496, '3']\n",
      "['1.05.2012', '4:45:31:3', 84.044, -0.148, '5', '0', '100', '110', '18.984', '39.414', 2350.650760397597, '3']\n"
     ]
    }
   ],
   "source": [
    "from math import pi\n",
    "path = 'C:/Users/cambo/Documents/repos/python/work/catalog automation/Segment_1_5f.txt'\n",
    "with open(path,'r',encoding='utf-8') as file:\n",
    "    text = file.read()\n",
    "    events = text.split('END EVENT')\n",
    "    events.pop()\n",
    "    for event in events:\n",
    "        event_log = []\n",
    "        event = event.strip()\n",
    "        event = event[:event.find('\\nAZIMUTHAL GAP')]\n",
    "        splitted = event.split('\\n')\n",
    "        dating = event[event.find('PROB='):event.find('NSTAT')]\n",
    "        dating = dating[dating.find('(')+1:dating.find(')')]\n",
    "        date,time=dating.split()\n",
    "        lat,lon = event[event.find(')')+2:event.find('PROB')].split()[:-1]\n",
    "        \n",
    "        lat,lon = float(lat.split('=')[1]), float(lon.split('=')[1])\n",
    "        depths = event[event.find('DEPTH'):]\n",
    "        \n",
    "        depth, depthmin, depthmax = [d.split('=')[1] for d in depths.split()]\n",
    "        azimuth = event[event.find('ELLIPSE: ')+9:event.find('DEPTH')-1]\n",
    "        AzMajor, Rminor, Rmajor = [d.split('=')[1] for d in azimuth.split()]\n",
    "        S = float(Rminor) * float(Rmajor) * pi\n",
    "        Nstat = event[event.find('NSTAT'):event.find('NPHASES')-1].split('=')[1]\n",
    "        event_log = [date,time.replace('.',':'),round(lat,3),round(lon,3), depth, depthmin, depthmax, AzMajor, Rminor, Rmajor, S, Nstat]\n",
    "        print(event_log)\n",
    "        "
   ]
  },
  {
   "cell_type": "code",
   "execution_count": 64,
   "metadata": {},
   "outputs": [],
   "source": [
    "from openpyxl import Workbook\n",
    "wb = Workbook()\n",
    "ws = wb.active\n",
    "treeData = [[\"Type\", \"Leaf Color\", \"Height\"], [\"Maple\", \"Red\", 549], [\"Oak\", \"Green\", 783], [\"Pine\", \"Green\", 1204]]\n",
    "for row in treeData:\n",
    "    ws.append(row)\n",
    "wb.save('doc.xlsx')"
   ]
  },
  {
   "cell_type": "code",
   "execution_count": 13,
   "metadata": {},
   "outputs": [
    {
     "name": "stdout",
     "output_type": "stream",
     "text": [
      "5\n",
      "3\n"
     ]
    }
   ],
   "source": [
    "from openpyxl import load_workbook\n",
    "wb = load_workbook('clear.xlsx')\n",
    "ws = wb.active\n",
    "treeData = [[\"Type\", \"Leaf Color\", \"Height\"], [\"Maple\", \"Red\", 549], [\"Oak\", \"Green\", 783], [\"Pine\", \"Green\", 1204]]\n",
    "for row in treeData:\n",
    "    ws.append(row)\n",
    "print(ws.max_row)\n",
    "print(ws.max_column)"
   ]
  }
 ],
 "metadata": {
  "kernelspec": {
   "display_name": "Python 3.10.4 64-bit",
   "language": "python",
   "name": "python3"
  },
  "language_info": {
   "codemirror_mode": {
    "name": "ipython",
    "version": 3
   },
   "file_extension": ".py",
   "mimetype": "text/x-python",
   "name": "python",
   "nbconvert_exporter": "python",
   "pygments_lexer": "ipython3",
   "version": "3.10.4"
  },
  "orig_nbformat": 4,
  "vscode": {
   "interpreter": {
    "hash": "ef34a6e219e7b2453b29ead01c5ce98d1681fe62ae1795fde79b011dd2c2b371"
   }
  }
 },
 "nbformat": 4,
 "nbformat_minor": 2
}
